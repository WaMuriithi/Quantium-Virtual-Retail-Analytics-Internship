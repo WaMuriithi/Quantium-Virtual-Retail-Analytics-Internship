{
 "cells": [
  {
   "cell_type": "code",
   "execution_count": 1,
   "id": "dfeac05e",
   "metadata": {},
   "outputs": [],
   "source": [
    "import numpy as np\n",
    "import pandas as pd\n",
    "import matplotlib.pyplot as plt\n",
    "import seaborn as sns\n",
    "import scipy.stats as st\n",
    "\n",
    "%matplotlib inline"
   ]
  },
  {
   "cell_type": "markdown",
   "id": "7d28f088",
   "metadata": {},
   "source": [
    "### Data Preparation"
   ]
  },
  {
   "cell_type": "code",
   "execution_count": 2,
   "id": "6af78152",
   "metadata": {},
   "outputs": [],
   "source": [
    "data_transactions = pd.read_excel(r\"C:\\Users\\KINYUA\\Downloads\\QVI_transaction_data.xlsx\")"
   ]
  },
  {
   "cell_type": "code",
   "execution_count": 3,
   "id": "01731584",
   "metadata": {},
   "outputs": [
    {
     "data": {
      "text/plain": [
       "(264836, 8)"
      ]
     },
     "execution_count": 3,
     "metadata": {},
     "output_type": "execute_result"
    }
   ],
   "source": [
    "# Examine df\n",
    "data_transactions.shape"
   ]
  },
  {
   "cell_type": "code",
   "execution_count": 4,
   "id": "1d5a090f",
   "metadata": {},
   "outputs": [
    {
     "data": {
      "text/html": [
       "<div>\n",
       "<style scoped>\n",
       "    .dataframe tbody tr th:only-of-type {\n",
       "        vertical-align: middle;\n",
       "    }\n",
       "\n",
       "    .dataframe tbody tr th {\n",
       "        vertical-align: top;\n",
       "    }\n",
       "\n",
       "    .dataframe thead th {\n",
       "        text-align: right;\n",
       "    }\n",
       "</style>\n",
       "<table border=\"1\" class=\"dataframe\">\n",
       "  <thead>\n",
       "    <tr style=\"text-align: right;\">\n",
       "      <th></th>\n",
       "      <th>DATE</th>\n",
       "      <th>STORE_NBR</th>\n",
       "      <th>LYLTY_CARD_NBR</th>\n",
       "      <th>TXN_ID</th>\n",
       "      <th>PROD_NBR</th>\n",
       "      <th>PROD_NAME</th>\n",
       "      <th>PROD_QTY</th>\n",
       "      <th>TOT_SALES</th>\n",
       "    </tr>\n",
       "  </thead>\n",
       "  <tbody>\n",
       "    <tr>\n",
       "      <th>0</th>\n",
       "      <td>43390</td>\n",
       "      <td>1</td>\n",
       "      <td>1000</td>\n",
       "      <td>1</td>\n",
       "      <td>5</td>\n",
       "      <td>Natural Chip        Compny SeaSalt175g</td>\n",
       "      <td>2</td>\n",
       "      <td>6.0</td>\n",
       "    </tr>\n",
       "    <tr>\n",
       "      <th>1</th>\n",
       "      <td>43599</td>\n",
       "      <td>1</td>\n",
       "      <td>1307</td>\n",
       "      <td>348</td>\n",
       "      <td>66</td>\n",
       "      <td>CCs Nacho Cheese    175g</td>\n",
       "      <td>3</td>\n",
       "      <td>6.3</td>\n",
       "    </tr>\n",
       "    <tr>\n",
       "      <th>2</th>\n",
       "      <td>43605</td>\n",
       "      <td>1</td>\n",
       "      <td>1343</td>\n",
       "      <td>383</td>\n",
       "      <td>61</td>\n",
       "      <td>Smiths Crinkle Cut  Chips Chicken 170g</td>\n",
       "      <td>2</td>\n",
       "      <td>2.9</td>\n",
       "    </tr>\n",
       "    <tr>\n",
       "      <th>3</th>\n",
       "      <td>43329</td>\n",
       "      <td>2</td>\n",
       "      <td>2373</td>\n",
       "      <td>974</td>\n",
       "      <td>69</td>\n",
       "      <td>Smiths Chip Thinly  S/Cream&amp;Onion 175g</td>\n",
       "      <td>5</td>\n",
       "      <td>15.0</td>\n",
       "    </tr>\n",
       "    <tr>\n",
       "      <th>4</th>\n",
       "      <td>43330</td>\n",
       "      <td>2</td>\n",
       "      <td>2426</td>\n",
       "      <td>1038</td>\n",
       "      <td>108</td>\n",
       "      <td>Kettle Tortilla ChpsHny&amp;Jlpno Chili 150g</td>\n",
       "      <td>3</td>\n",
       "      <td>13.8</td>\n",
       "    </tr>\n",
       "  </tbody>\n",
       "</table>\n",
       "</div>"
      ],
      "text/plain": [
       "    DATE  STORE_NBR  LYLTY_CARD_NBR  TXN_ID  PROD_NBR  \\\n",
       "0  43390          1            1000       1         5   \n",
       "1  43599          1            1307     348        66   \n",
       "2  43605          1            1343     383        61   \n",
       "3  43329          2            2373     974        69   \n",
       "4  43330          2            2426    1038       108   \n",
       "\n",
       "                                  PROD_NAME  PROD_QTY  TOT_SALES  \n",
       "0    Natural Chip        Compny SeaSalt175g         2        6.0  \n",
       "1                  CCs Nacho Cheese    175g         3        6.3  \n",
       "2    Smiths Crinkle Cut  Chips Chicken 170g         2        2.9  \n",
       "3    Smiths Chip Thinly  S/Cream&Onion 175g         5       15.0  \n",
       "4  Kettle Tortilla ChpsHny&Jlpno Chili 150g         3       13.8  "
      ]
     },
     "execution_count": 4,
     "metadata": {},
     "output_type": "execute_result"
    }
   ],
   "source": [
    "# Explore rows and columns\n",
    "data_transactions.head()"
   ]
  },
  {
   "cell_type": "code",
   "execution_count": 5,
   "id": "b0d454dc",
   "metadata": {},
   "outputs": [
    {
     "data": {
      "text/plain": [
       "Index(['DATE', 'STORE_NBR', 'LYLTY_CARD_NBR', 'TXN_ID', 'PROD_NBR',\n",
       "       'PROD_NAME', 'PROD_QTY', 'TOT_SALES'],\n",
       "      dtype='object')"
      ]
     },
     "execution_count": 5,
     "metadata": {},
     "output_type": "execute_result"
    }
   ],
   "source": [
    "# View columns\n",
    "data_transactions.columns"
   ]
  },
  {
   "cell_type": "code",
   "execution_count": 6,
   "id": "aa0aa21a",
   "metadata": {},
   "outputs": [
    {
     "data": {
      "text/plain": [
       "DATE              0\n",
       "STORE_NBR         0\n",
       "LYLTY_CARD_NBR    0\n",
       "TXN_ID            0\n",
       "PROD_NBR          0\n",
       "PROD_NAME         0\n",
       "PROD_QTY          0\n",
       "TOT_SALES         0\n",
       "dtype: int64"
      ]
     },
     "execution_count": 6,
     "metadata": {},
     "output_type": "execute_result"
    }
   ],
   "source": [
    "# Explore null values\n",
    "\n",
    "data_transactions.isnull().sum()"
   ]
  },
  {
   "cell_type": "code",
   "execution_count": 7,
   "id": "03246451",
   "metadata": {},
   "outputs": [
    {
     "data": {
      "text/plain": [
       "DATE                int64\n",
       "STORE_NBR           int64\n",
       "LYLTY_CARD_NBR      int64\n",
       "TXN_ID              int64\n",
       "PROD_NBR            int64\n",
       "PROD_NAME          object\n",
       "PROD_QTY            int64\n",
       "TOT_SALES         float64\n",
       "dtype: object"
      ]
     },
     "execution_count": 7,
     "metadata": {},
     "output_type": "execute_result"
    }
   ],
   "source": [
    "# Explore data types\n",
    "data_transactions.dtypes"
   ]
  },
  {
   "cell_type": "code",
   "execution_count": 8,
   "id": "6f2ec7ae",
   "metadata": {},
   "outputs": [],
   "source": [
    "# convert date to date time\n",
    "\n",
    "data_transactions['DATE'] = pd.to_datetime(data_transactions['DATE'], unit = 'D', \n",
    "                                           origin ='1899-12-30')"
   ]
  },
  {
   "cell_type": "code",
   "execution_count": 9,
   "id": "7583425c",
   "metadata": {},
   "outputs": [],
   "source": [
    "# Rename columns\n",
    "data_transactions.rename(columns ={'DATE':'date', 'STORE_NBR':'store_no', \n",
    "                                   'LYLTY_CARD_NBR':'loyalty_card_no', \n",
    "                                   'TXN_ID':'transaction_id', \n",
    "                                   'PROD_NBR':'product_no','PROD_NAME':'product_name', \n",
    "                                   'PROD_QTY':'product_qty', 'TOT_SALES':'total_sales'},\n",
    "                        inplace=True)"
   ]
  },
  {
   "cell_type": "code",
   "execution_count": 10,
   "id": "cf54b6f6",
   "metadata": {},
   "outputs": [
    {
     "data": {
      "text/html": [
       "<div>\n",
       "<style scoped>\n",
       "    .dataframe tbody tr th:only-of-type {\n",
       "        vertical-align: middle;\n",
       "    }\n",
       "\n",
       "    .dataframe tbody tr th {\n",
       "        vertical-align: top;\n",
       "    }\n",
       "\n",
       "    .dataframe thead th {\n",
       "        text-align: right;\n",
       "    }\n",
       "</style>\n",
       "<table border=\"1\" class=\"dataframe\">\n",
       "  <thead>\n",
       "    <tr style=\"text-align: right;\">\n",
       "      <th></th>\n",
       "      <th>date</th>\n",
       "      <th>store_no</th>\n",
       "      <th>loyalty_card_no</th>\n",
       "      <th>transaction_id</th>\n",
       "      <th>product_no</th>\n",
       "      <th>product_name</th>\n",
       "      <th>product_qty</th>\n",
       "      <th>total_sales</th>\n",
       "    </tr>\n",
       "  </thead>\n",
       "  <tbody>\n",
       "    <tr>\n",
       "      <th>0</th>\n",
       "      <td>2018-10-17</td>\n",
       "      <td>1</td>\n",
       "      <td>1000</td>\n",
       "      <td>1</td>\n",
       "      <td>5</td>\n",
       "      <td>Natural Chip        Compny SeaSalt175g</td>\n",
       "      <td>2</td>\n",
       "      <td>6.0</td>\n",
       "    </tr>\n",
       "    <tr>\n",
       "      <th>1</th>\n",
       "      <td>2019-05-14</td>\n",
       "      <td>1</td>\n",
       "      <td>1307</td>\n",
       "      <td>348</td>\n",
       "      <td>66</td>\n",
       "      <td>CCs Nacho Cheese    175g</td>\n",
       "      <td>3</td>\n",
       "      <td>6.3</td>\n",
       "    </tr>\n",
       "    <tr>\n",
       "      <th>2</th>\n",
       "      <td>2019-05-20</td>\n",
       "      <td>1</td>\n",
       "      <td>1343</td>\n",
       "      <td>383</td>\n",
       "      <td>61</td>\n",
       "      <td>Smiths Crinkle Cut  Chips Chicken 170g</td>\n",
       "      <td>2</td>\n",
       "      <td>2.9</td>\n",
       "    </tr>\n",
       "    <tr>\n",
       "      <th>3</th>\n",
       "      <td>2018-08-17</td>\n",
       "      <td>2</td>\n",
       "      <td>2373</td>\n",
       "      <td>974</td>\n",
       "      <td>69</td>\n",
       "      <td>Smiths Chip Thinly  S/Cream&amp;Onion 175g</td>\n",
       "      <td>5</td>\n",
       "      <td>15.0</td>\n",
       "    </tr>\n",
       "    <tr>\n",
       "      <th>4</th>\n",
       "      <td>2018-08-18</td>\n",
       "      <td>2</td>\n",
       "      <td>2426</td>\n",
       "      <td>1038</td>\n",
       "      <td>108</td>\n",
       "      <td>Kettle Tortilla ChpsHny&amp;Jlpno Chili 150g</td>\n",
       "      <td>3</td>\n",
       "      <td>13.8</td>\n",
       "    </tr>\n",
       "  </tbody>\n",
       "</table>\n",
       "</div>"
      ],
      "text/plain": [
       "        date  store_no  loyalty_card_no  transaction_id  product_no  \\\n",
       "0 2018-10-17         1             1000               1           5   \n",
       "1 2019-05-14         1             1307             348          66   \n",
       "2 2019-05-20         1             1343             383          61   \n",
       "3 2018-08-17         2             2373             974          69   \n",
       "4 2018-08-18         2             2426            1038         108   \n",
       "\n",
       "                               product_name  product_qty  total_sales  \n",
       "0    Natural Chip        Compny SeaSalt175g            2          6.0  \n",
       "1                  CCs Nacho Cheese    175g            3          6.3  \n",
       "2    Smiths Crinkle Cut  Chips Chicken 170g            2          2.9  \n",
       "3    Smiths Chip Thinly  S/Cream&Onion 175g            5         15.0  \n",
       "4  Kettle Tortilla ChpsHny&Jlpno Chili 150g            3         13.8  "
      ]
     },
     "execution_count": 10,
     "metadata": {},
     "output_type": "execute_result"
    }
   ],
   "source": [
    "# Confirm changes\n",
    "\n",
    "data_transactions.head()"
   ]
  },
  {
   "cell_type": "code",
   "execution_count": 11,
   "id": "d6bf6ec2",
   "metadata": {},
   "outputs": [
    {
     "data": {
      "text/plain": [
       "114"
      ]
     },
     "execution_count": 11,
     "metadata": {},
     "output_type": "execute_result"
    }
   ],
   "source": [
    "# Examine products\n",
    "\n",
    "data_transactions['product_name'].nunique()\n",
    " "
   ]
  },
  {
   "cell_type": "code",
   "execution_count": 12,
   "id": "c1e81e03",
   "metadata": {},
   "outputs": [
    {
     "data": {
      "text/plain": [
       "product_name\n",
       "Kettle Mozzarella   Basil & Pesto 175g      3304\n",
       "Kettle Tortilla ChpsHny&Jlpno Chili 150g    3296\n",
       "Cobs Popd Swt/Chlli &Sr/Cream Chips 110g    3269\n",
       "Tyrrells Crisps     Ched & Chives 165g      3268\n",
       "Cobs Popd Sea Salt  Chips 110g              3265\n",
       "                                            ... \n",
       "RRD Pc Sea Salt     165g                    1431\n",
       "Woolworths Medium   Salsa 300g              1430\n",
       "NCC Sour Cream &    Garden Chives 175g      1419\n",
       "French Fries Potato Chips 175g              1418\n",
       "WW Crinkle Cut      Original 175g           1410\n",
       "Name: count, Length: 114, dtype: int64"
      ]
     },
     "execution_count": 12,
     "metadata": {},
     "output_type": "execute_result"
    }
   ],
   "source": [
    "data_transactions['product_name'].value_counts()"
   ]
  },
  {
   "cell_type": "code",
   "execution_count": 13,
   "id": "543c3e5f",
   "metadata": {},
   "outputs": [],
   "source": [
    "# Analyze product description to identify products that are not chips\n",
    "\n",
    "# Select unique product names\n",
    "unique_products = data_transactions['product_name'].unique()\n",
    "\n",
    "# Join unique products into a string \n",
    "unique_products_string = ' '.join(unique_products)\n",
    "\n",
    "# Split string to view unique product terms\n",
    "\n",
    "product_words = unique_products_string.split()\n",
    "\n",
    "# Convert list into df\n",
    "\n",
    "product_words_df = pd.Series(product_words, name='words')\n",
    "\n",
    "# Print df to analyse words\n",
    "\n",
    "#print(product_words_df.to_string())\n",
    "\n",
    "# Remove symbols and words with digits to remain with descriptive words \\\n",
    "#identifying product as chips\n",
    "\n",
    "words_cleaned = product_words_df[~(product_words_df.str.contains('&|\\d'))]\n",
    "#print(words_cleaned.to_string())\n",
    "\n",
    "# Sort words by frequency\n",
    "words_cleaned.value_counts()\n",
    "\n",
    "# Remove salsa products identified in the word analysis\n",
    "\n",
    "chips_transactions_df = data_transactions[~(data_transactions['product_name'].\n",
    "                                        str.contains('Salsa'))]"
   ]
  },
  {
   "cell_type": "code",
   "execution_count": 14,
   "id": "13c14a0a",
   "metadata": {},
   "outputs": [
    {
     "data": {
      "text/html": [
       "<div>\n",
       "<style scoped>\n",
       "    .dataframe tbody tr th:only-of-type {\n",
       "        vertical-align: middle;\n",
       "    }\n",
       "\n",
       "    .dataframe tbody tr th {\n",
       "        vertical-align: top;\n",
       "    }\n",
       "\n",
       "    .dataframe thead th {\n",
       "        text-align: right;\n",
       "    }\n",
       "</style>\n",
       "<table border=\"1\" class=\"dataframe\">\n",
       "  <thead>\n",
       "    <tr style=\"text-align: right;\">\n",
       "      <th></th>\n",
       "      <th>product_qty</th>\n",
       "      <th>total_sales</th>\n",
       "    </tr>\n",
       "  </thead>\n",
       "  <tbody>\n",
       "    <tr>\n",
       "      <th>count</th>\n",
       "      <td>246742.000000</td>\n",
       "      <td>246742.000000</td>\n",
       "    </tr>\n",
       "    <tr>\n",
       "      <th>mean</th>\n",
       "      <td>1.908062</td>\n",
       "      <td>7.321322</td>\n",
       "    </tr>\n",
       "    <tr>\n",
       "      <th>std</th>\n",
       "      <td>0.659831</td>\n",
       "      <td>3.077828</td>\n",
       "    </tr>\n",
       "    <tr>\n",
       "      <th>min</th>\n",
       "      <td>1.000000</td>\n",
       "      <td>1.700000</td>\n",
       "    </tr>\n",
       "    <tr>\n",
       "      <th>25%</th>\n",
       "      <td>2.000000</td>\n",
       "      <td>5.800000</td>\n",
       "    </tr>\n",
       "    <tr>\n",
       "      <th>50%</th>\n",
       "      <td>2.000000</td>\n",
       "      <td>7.400000</td>\n",
       "    </tr>\n",
       "    <tr>\n",
       "      <th>75%</th>\n",
       "      <td>2.000000</td>\n",
       "      <td>8.800000</td>\n",
       "    </tr>\n",
       "    <tr>\n",
       "      <th>max</th>\n",
       "      <td>200.000000</td>\n",
       "      <td>650.000000</td>\n",
       "    </tr>\n",
       "  </tbody>\n",
       "</table>\n",
       "</div>"
      ],
      "text/plain": [
       "         product_qty    total_sales\n",
       "count  246742.000000  246742.000000\n",
       "mean        1.908062       7.321322\n",
       "std         0.659831       3.077828\n",
       "min         1.000000       1.700000\n",
       "25%         2.000000       5.800000\n",
       "50%         2.000000       7.400000\n",
       "75%         2.000000       8.800000\n",
       "max       200.000000     650.000000"
      ]
     },
     "execution_count": 14,
     "metadata": {},
     "output_type": "execute_result"
    }
   ],
   "source": [
    "# View summary statistics\n",
    "\n",
    "chips_transactions_df[['product_qty', \"total_sales\"]].describe()"
   ]
  },
  {
   "cell_type": "code",
   "execution_count": 15,
   "id": "a1b93de5",
   "metadata": {},
   "outputs": [
    {
     "data": {
      "text/html": [
       "<div>\n",
       "<style scoped>\n",
       "    .dataframe tbody tr th:only-of-type {\n",
       "        vertical-align: middle;\n",
       "    }\n",
       "\n",
       "    .dataframe tbody tr th {\n",
       "        vertical-align: top;\n",
       "    }\n",
       "\n",
       "    .dataframe thead th {\n",
       "        text-align: right;\n",
       "    }\n",
       "</style>\n",
       "<table border=\"1\" class=\"dataframe\">\n",
       "  <thead>\n",
       "    <tr style=\"text-align: right;\">\n",
       "      <th></th>\n",
       "      <th>date</th>\n",
       "      <th>store_no</th>\n",
       "      <th>loyalty_card_no</th>\n",
       "      <th>transaction_id</th>\n",
       "      <th>product_no</th>\n",
       "      <th>product_name</th>\n",
       "      <th>product_qty</th>\n",
       "      <th>total_sales</th>\n",
       "    </tr>\n",
       "  </thead>\n",
       "  <tbody>\n",
       "    <tr>\n",
       "      <th>69762</th>\n",
       "      <td>2018-08-19</td>\n",
       "      <td>226</td>\n",
       "      <td>226000</td>\n",
       "      <td>226201</td>\n",
       "      <td>4</td>\n",
       "      <td>Dorito Corn Chp     Supreme 380g</td>\n",
       "      <td>200</td>\n",
       "      <td>650.0</td>\n",
       "    </tr>\n",
       "    <tr>\n",
       "      <th>69763</th>\n",
       "      <td>2019-05-20</td>\n",
       "      <td>226</td>\n",
       "      <td>226000</td>\n",
       "      <td>226210</td>\n",
       "      <td>4</td>\n",
       "      <td>Dorito Corn Chp     Supreme 380g</td>\n",
       "      <td>200</td>\n",
       "      <td>650.0</td>\n",
       "    </tr>\n",
       "  </tbody>\n",
       "</table>\n",
       "</div>"
      ],
      "text/plain": [
       "            date  store_no  loyalty_card_no  transaction_id  product_no  \\\n",
       "69762 2018-08-19       226           226000          226201           4   \n",
       "69763 2019-05-20       226           226000          226210           4   \n",
       "\n",
       "                           product_name  product_qty  total_sales  \n",
       "69762  Dorito Corn Chp     Supreme 380g          200        650.0  \n",
       "69763  Dorito Corn Chp     Supreme 380g          200        650.0  "
      ]
     },
     "execution_count": 15,
     "metadata": {},
     "output_type": "execute_result"
    }
   ],
   "source": [
    "# Max product_qty of 200 a possible outlier. Examine the transaction\n",
    "\n",
    "chips_transactions_df.loc[chips_transactions_df[\"product_qty\"]==200]"
   ]
  },
  {
   "cell_type": "code",
   "execution_count": 16,
   "id": "a0c8d967",
   "metadata": {},
   "outputs": [
    {
     "data": {
      "text/html": [
       "<div>\n",
       "<style scoped>\n",
       "    .dataframe tbody tr th:only-of-type {\n",
       "        vertical-align: middle;\n",
       "    }\n",
       "\n",
       "    .dataframe tbody tr th {\n",
       "        vertical-align: top;\n",
       "    }\n",
       "\n",
       "    .dataframe thead th {\n",
       "        text-align: right;\n",
       "    }\n",
       "</style>\n",
       "<table border=\"1\" class=\"dataframe\">\n",
       "  <thead>\n",
       "    <tr style=\"text-align: right;\">\n",
       "      <th></th>\n",
       "      <th>date</th>\n",
       "      <th>store_no</th>\n",
       "      <th>loyalty_card_no</th>\n",
       "      <th>transaction_id</th>\n",
       "      <th>product_no</th>\n",
       "      <th>product_name</th>\n",
       "      <th>product_qty</th>\n",
       "      <th>total_sales</th>\n",
       "    </tr>\n",
       "  </thead>\n",
       "  <tbody>\n",
       "    <tr>\n",
       "      <th>69762</th>\n",
       "      <td>2018-08-19</td>\n",
       "      <td>226</td>\n",
       "      <td>226000</td>\n",
       "      <td>226201</td>\n",
       "      <td>4</td>\n",
       "      <td>Dorito Corn Chp     Supreme 380g</td>\n",
       "      <td>200</td>\n",
       "      <td>650.0</td>\n",
       "    </tr>\n",
       "    <tr>\n",
       "      <th>69763</th>\n",
       "      <td>2019-05-20</td>\n",
       "      <td>226</td>\n",
       "      <td>226000</td>\n",
       "      <td>226210</td>\n",
       "      <td>4</td>\n",
       "      <td>Dorito Corn Chp     Supreme 380g</td>\n",
       "      <td>200</td>\n",
       "      <td>650.0</td>\n",
       "    </tr>\n",
       "  </tbody>\n",
       "</table>\n",
       "</div>"
      ],
      "text/plain": [
       "            date  store_no  loyalty_card_no  transaction_id  product_no  \\\n",
       "69762 2018-08-19       226           226000          226201           4   \n",
       "69763 2019-05-20       226           226000          226210           4   \n",
       "\n",
       "                           product_name  product_qty  total_sales  \n",
       "69762  Dorito Corn Chp     Supreme 380g          200        650.0  \n",
       "69763  Dorito Corn Chp     Supreme 380g          200        650.0  "
      ]
     },
     "execution_count": 16,
     "metadata": {},
     "output_type": "execute_result"
    }
   ],
   "source": [
    "# Quantity bought by same customers on 2 days, examine other transactions by customer\n",
    "\n",
    "chips_transactions_df[chips_transactions_df[\"loyalty_card_no\"]==226000]"
   ]
  },
  {
   "cell_type": "code",
   "execution_count": 17,
   "id": "8dcf8ef1",
   "metadata": {},
   "outputs": [],
   "source": [
    "# Since there are no other transactions, customer removed from further analysis to prevent\n",
    "# data skewing \n",
    "\n",
    "chips_transactions_df = chips_transactions_df.drop([69762,69763])"
   ]
  },
  {
   "cell_type": "code",
   "execution_count": 18,
   "id": "fd59e80c",
   "metadata": {},
   "outputs": [
    {
     "data": {
      "text/plain": [
       "date\n",
       "2018-07-01    663\n",
       "2018-07-02    650\n",
       "2018-07-03    674\n",
       "2018-07-04    669\n",
       "2018-07-05    660\n",
       "             ... \n",
       "2019-06-26    657\n",
       "2019-06-27    669\n",
       "2019-06-28    673\n",
       "2019-06-29    703\n",
       "2019-06-30    704\n",
       "Name: transaction_id, Length: 364, dtype: int64"
      ]
     },
     "execution_count": 18,
     "metadata": {},
     "output_type": "execute_result"
    }
   ],
   "source": [
    "# Count the number of transactions by date\n",
    "\n",
    "chips_transactions_df.groupby('date')['transaction_id'].count()"
   ]
  },
  {
   "cell_type": "code",
   "execution_count": 19,
   "id": "d745c5fd",
   "metadata": {},
   "outputs": [],
   "source": [
    "# Create daily transactions df and date range to identify missing date\n",
    "\n",
    "daily_transactions = chips_transactions_df.groupby('date')['transaction_id'].count().\\\n",
    "reset_index()\n",
    "\n",
    "daily_transactions.rename(columns={'transaction_id':'transactions'}, inplace=True)\n",
    "\n",
    "dates_range = pd.DataFrame(pd.date_range(start = '2018-07-01', end='2019-06-30'), \n",
    "                          columns=['date'])\n",
    "\n",
    "daily_transactions_df = pd.merge(dates_range, daily_transactions, on=['date'],\n",
    "                                 how='left')\n",
    "                                "
   ]
  },
  {
   "cell_type": "code",
   "execution_count": 20,
   "id": "e99ee0d5",
   "metadata": {},
   "outputs": [
    {
     "data": {
      "image/png": "[encoded data removed]",
      "text/plain": [
       "<Figure size 600x400 with 1 Axes>"
      ]
     },
     "metadata": {},
     "output_type": "display_data"
    }
   ],
   "source": [
    "# Plot daily transactions to identify blank date\n",
    "\n",
    "plt.style.use(\"default\")\n",
    "\n",
    "fig, ax = plt.subplots(figsize=(6,4))\n",
    "\n",
    "ax.plot('date', 'transactions', data= daily_transactions_df)\n",
    "\n",
    "ax.set_title(\"Daily transactions\")\n",
    "ax.set_xlabel(\"Month\")\n",
    "ax.set_ylabel(\"Transactions\")\n",
    "\n",
    "plt.show()"
   ]
  },
  {
   "cell_type": "code",
   "execution_count": 21,
   "id": "1e9bceba",
   "metadata": {},
   "outputs": [
    {
     "name": "stderr",
     "output_type": "stream",
     "text": [
      "C:\\Users\\KINYUA\\AppData\\Local\\Temp\\ipykernel_244\\4094926754.py:17: UserWarning: set_ticklabels() should only be used with a fixed number of ticks, i.e. after set_ticks() or using a FixedLocator.\n",
      "  ax.set_xticklabels(labels=labels)\n"
     ]
    },
    {
     "data": {
      "image/png": "[encoded data removed]",
      "text/plain": [
       "<Figure size 800x400 with 1 Axes>"
      ]
     },
     "metadata": {},
     "output_type": "display_data"
    }
   ],
   "source": [
    "# Missing date in December 24-26. Plot December transactions alone to visualize\n",
    "\n",
    "december_transactions = daily_transactions_df.loc[daily_transactions_df['date'\n",
    "                                                            ].dt.month ==12]\n",
    "# Plot December transactions\n",
    "\n",
    "plt.style.use(\"default\")\n",
    "\n",
    "labels = ['12-01', '12-05', '12-09', '12-13', '12-17', '12-21', '12-25','12-29']\n",
    "\n",
    "fig, ax = plt.subplots(figsize=(8,4))\n",
    "\n",
    "ax.plot(\"date\", \"transactions\", data=december_transactions)\n",
    "ax.set_xlabel('Month')\n",
    "ax.set_title(\"December transactions\")\n",
    "ax.set_ylabel(\"Transactions\")\n",
    "ax.set_xticklabels(labels=labels)\n",
    "\n",
    "plt.show()"
   ]
  },
  {
   "cell_type": "code",
   "execution_count": 56,
   "id": "cec03d03",
   "metadata": {},
   "outputs": [
    {
     "data": {
      "image/png": "[encoded data removed]",
      "text/plain": [
       "<Figure size 800x300 with 1 Axes>"
      ]
     },
     "metadata": {},
     "output_type": "display_data"
    }
   ],
   "source": [
    "# Split product name column to obtain pack sizes and product brands\n",
    "\n",
    "# Obtaining pack sizes\n",
    "\n",
    "# Extract pack sizes using str.extract\n",
    "\n",
    "chips_transactions_df['pack_size'] = chips_transactions_df[\"product_name\"].str.extract('(\\d+)'\n",
    "                                            '([a-zA-Z]+)').apply(lambda x: ''.join(x), \n",
    "                                                            axis=1).str.lower()\n",
    "\n",
    "# Plot pack size count to visualize their popularity\n",
    "\n",
    "pack_size_count = chips_transactions_df[\"pack_size\"].value_counts().reset_index()\n",
    "\n",
    "fig, ax = plt.subplots(figsize=(8,3))\n",
    "\n",
    "ax.bar(\"pack_size\", \"count\", data=pack_size_count)\n",
    "\n",
    "ax.set_title(\"pack_size sales\")\n",
    "ax.set_ylabel(\"Count\")\n",
    "ax.set_xlabel(\"Pack_size\")\n",
    "ax.tick_params(labelsize=6)\n",
    "\n",
    "plt.show()"
   ]
  },
  {
   "cell_type": "code",
   "execution_count": 23,
   "id": "3b06ef6a",
   "metadata": {},
   "outputs": [],
   "source": [
    "# Extract brand names using str.spilt\n",
    "\n",
    "chips_transactions_df['brand']=\\\n",
    "            chips_transactions_df['product_name'].apply(lambda x: x.split()[0])\n",
    "\n",
    "# Rename brands recorded with different names\n",
    "chips_transactions_df['brand'].replace({'WW':'Woolworths', 'NCC':'Natural', \n",
    "                                        'Infzns':'Infuzions','Red':'RRD',\n",
    "                                        'Dorito':'Doritos', 'Smith':'Smiths',\n",
    "                                        'Grain':'GrnWves','Snbts':'Sunbites'}, inplace=True)\n",
    "\n",
    "# transactions data frame ready for analysis"
   ]
  },
  {
   "cell_type": "code",
   "execution_count": 24,
   "id": "988eedfb",
   "metadata": {},
   "outputs": [],
   "source": [
    "# Load customer details data\n",
    "\n",
    "purchase_behavior = pd.read_csv(r\"C:\\Users\\KINYUA\\Downloads\\QVI_purchase_behaviour.csv\")"
   ]
  },
  {
   "cell_type": "code",
   "execution_count": 25,
   "id": "27dd53db",
   "metadata": {},
   "outputs": [
    {
     "data": {
      "text/plain": [
       "(72637, 3)"
      ]
     },
     "execution_count": 25,
     "metadata": {},
     "output_type": "execute_result"
    }
   ],
   "source": [
    "# Explore rows and columns\n",
    "\n",
    "purchase_behavior.shape"
   ]
  },
  {
   "cell_type": "code",
   "execution_count": 26,
   "id": "9ee210d7",
   "metadata": {},
   "outputs": [
    {
     "data": {
      "text/html": [
       "<div>\n",
       "<style scoped>\n",
       "    .dataframe tbody tr th:only-of-type {\n",
       "        vertical-align: middle;\n",
       "    }\n",
       "\n",
       "    .dataframe tbody tr th {\n",
       "        vertical-align: top;\n",
       "    }\n",
       "\n",
       "    .dataframe thead th {\n",
       "        text-align: right;\n",
       "    }\n",
       "</style>\n",
       "<table border=\"1\" class=\"dataframe\">\n",
       "  <thead>\n",
       "    <tr style=\"text-align: right;\">\n",
       "      <th></th>\n",
       "      <th>LYLTY_CARD_NBR</th>\n",
       "      <th>LIFESTAGE</th>\n",
       "      <th>PREMIUM_CUSTOMER</th>\n",
       "    </tr>\n",
       "  </thead>\n",
       "  <tbody>\n",
       "    <tr>\n",
       "      <th>0</th>\n",
       "      <td>1000</td>\n",
       "      <td>YOUNG SINGLES/COUPLES</td>\n",
       "      <td>Premium</td>\n",
       "    </tr>\n",
       "    <tr>\n",
       "      <th>1</th>\n",
       "      <td>1002</td>\n",
       "      <td>YOUNG SINGLES/COUPLES</td>\n",
       "      <td>Mainstream</td>\n",
       "    </tr>\n",
       "    <tr>\n",
       "      <th>2</th>\n",
       "      <td>1003</td>\n",
       "      <td>YOUNG FAMILIES</td>\n",
       "      <td>Budget</td>\n",
       "    </tr>\n",
       "    <tr>\n",
       "      <th>3</th>\n",
       "      <td>1004</td>\n",
       "      <td>OLDER SINGLES/COUPLES</td>\n",
       "      <td>Mainstream</td>\n",
       "    </tr>\n",
       "    <tr>\n",
       "      <th>4</th>\n",
       "      <td>1005</td>\n",
       "      <td>MIDAGE SINGLES/COUPLES</td>\n",
       "      <td>Mainstream</td>\n",
       "    </tr>\n",
       "  </tbody>\n",
       "</table>\n",
       "</div>"
      ],
      "text/plain": [
       "   LYLTY_CARD_NBR               LIFESTAGE PREMIUM_CUSTOMER\n",
       "0            1000   YOUNG SINGLES/COUPLES          Premium\n",
       "1            1002   YOUNG SINGLES/COUPLES       Mainstream\n",
       "2            1003          YOUNG FAMILIES           Budget\n",
       "3            1004   OLDER SINGLES/COUPLES       Mainstream\n",
       "4            1005  MIDAGE SINGLES/COUPLES       Mainstream"
      ]
     },
     "execution_count": 26,
     "metadata": {},
     "output_type": "execute_result"
    }
   ],
   "source": [
    "purchase_behavior.head()"
   ]
  },
  {
   "cell_type": "code",
   "execution_count": 27,
   "id": "1ac2059b",
   "metadata": {},
   "outputs": [
    {
     "data": {
      "text/plain": [
       "LYLTY_CARD_NBR      0\n",
       "LIFESTAGE           0\n",
       "PREMIUM_CUSTOMER    0\n",
       "dtype: int64"
      ]
     },
     "execution_count": 27,
     "metadata": {},
     "output_type": "execute_result"
    }
   ],
   "source": [
    "# Check for null values\n",
    "\n",
    "purchase_behavior.isnull().sum()"
   ]
  },
  {
   "cell_type": "code",
   "execution_count": 28,
   "id": "de75a5bd",
   "metadata": {},
   "outputs": [],
   "source": [
    "# Rename columns\n",
    "\n",
    "purchase_behavior.rename(columns={'LYLTY_CARD_NBR':'loyalty_card_no', \n",
    "                                  'LIFESTAGE':'lifestage', \n",
    "                                  'PREMIUM_CUSTOMER':'premium_customer'}, inplace=True)"
   ]
  },
  {
   "cell_type": "code",
   "execution_count": 29,
   "id": "dd6eb47c",
   "metadata": {},
   "outputs": [],
   "source": [
    "# Rename rows in lifestage column\n",
    "\n",
    "purchase_behavior['lifestage'].replace({'YOUNG SINGLES/COUPLES':'Young singles/couples', \n",
    "                                        'YOUNG FAMILIES':'Young families', \n",
    "                                        'OLDER SINGLES/COUPLES': 'Older singles/couples',\n",
    "                                        'MIDAGE SINGLES/COUPLES':'Midage singles/couples', \n",
    "                                        'NEW FAMILIES':'New families', \n",
    "                                        'OLDER FAMILIES':'Older families',\n",
    "                                        'RETIREES':'Retirees'},inplace=True)\n",
    "\n"
   ]
  },
  {
   "cell_type": "code",
   "execution_count": 30,
   "id": "eeb0771e",
   "metadata": {},
   "outputs": [],
   "source": [
    "# Merge transactions and customer details df \n",
    "\n",
    "chips_sales = pd.merge(chips_transactions_df, purchase_behavior, \n",
    "                                       on='loyalty_card_no', how='left')"
   ]
  },
  {
   "cell_type": "code",
   "execution_count": 31,
   "id": "486a3957",
   "metadata": {},
   "outputs": [
    {
     "data": {
      "text/html": [
       "<div>\n",
       "<style scoped>\n",
       "    .dataframe tbody tr th:only-of-type {\n",
       "        vertical-align: middle;\n",
       "    }\n",
       "\n",
       "    .dataframe tbody tr th {\n",
       "        vertical-align: top;\n",
       "    }\n",
       "\n",
       "    .dataframe thead th {\n",
       "        text-align: right;\n",
       "    }\n",
       "</style>\n",
       "<table border=\"1\" class=\"dataframe\">\n",
       "  <thead>\n",
       "    <tr style=\"text-align: right;\">\n",
       "      <th></th>\n",
       "      <th>date</th>\n",
       "      <th>store_no</th>\n",
       "      <th>loyalty_card_no</th>\n",
       "      <th>transaction_id</th>\n",
       "      <th>product_no</th>\n",
       "      <th>product_name</th>\n",
       "      <th>product_qty</th>\n",
       "      <th>total_sales</th>\n",
       "      <th>pack_size</th>\n",
       "      <th>brand</th>\n",
       "      <th>lifestage</th>\n",
       "      <th>premium_customer</th>\n",
       "    </tr>\n",
       "  </thead>\n",
       "  <tbody>\n",
       "    <tr>\n",
       "      <th>0</th>\n",
       "      <td>2018-10-17</td>\n",
       "      <td>1</td>\n",
       "      <td>1000</td>\n",
       "      <td>1</td>\n",
       "      <td>5</td>\n",
       "      <td>Natural Chip        Compny SeaSalt175g</td>\n",
       "      <td>2</td>\n",
       "      <td>6.0</td>\n",
       "      <td>175g</td>\n",
       "      <td>Natural</td>\n",
       "      <td>Young singles/couples</td>\n",
       "      <td>Premium</td>\n",
       "    </tr>\n",
       "    <tr>\n",
       "      <th>1</th>\n",
       "      <td>2019-05-14</td>\n",
       "      <td>1</td>\n",
       "      <td>1307</td>\n",
       "      <td>348</td>\n",
       "      <td>66</td>\n",
       "      <td>CCs Nacho Cheese    175g</td>\n",
       "      <td>3</td>\n",
       "      <td>6.3</td>\n",
       "      <td>175g</td>\n",
       "      <td>CCs</td>\n",
       "      <td>Midage singles/couples</td>\n",
       "      <td>Budget</td>\n",
       "    </tr>\n",
       "    <tr>\n",
       "      <th>2</th>\n",
       "      <td>2019-05-20</td>\n",
       "      <td>1</td>\n",
       "      <td>1343</td>\n",
       "      <td>383</td>\n",
       "      <td>61</td>\n",
       "      <td>Smiths Crinkle Cut  Chips Chicken 170g</td>\n",
       "      <td>2</td>\n",
       "      <td>2.9</td>\n",
       "      <td>170g</td>\n",
       "      <td>Smiths</td>\n",
       "      <td>Midage singles/couples</td>\n",
       "      <td>Budget</td>\n",
       "    </tr>\n",
       "    <tr>\n",
       "      <th>3</th>\n",
       "      <td>2018-08-17</td>\n",
       "      <td>2</td>\n",
       "      <td>2373</td>\n",
       "      <td>974</td>\n",
       "      <td>69</td>\n",
       "      <td>Smiths Chip Thinly  S/Cream&amp;Onion 175g</td>\n",
       "      <td>5</td>\n",
       "      <td>15.0</td>\n",
       "      <td>175g</td>\n",
       "      <td>Smiths</td>\n",
       "      <td>Midage singles/couples</td>\n",
       "      <td>Budget</td>\n",
       "    </tr>\n",
       "    <tr>\n",
       "      <th>4</th>\n",
       "      <td>2018-08-18</td>\n",
       "      <td>2</td>\n",
       "      <td>2426</td>\n",
       "      <td>1038</td>\n",
       "      <td>108</td>\n",
       "      <td>Kettle Tortilla ChpsHny&amp;Jlpno Chili 150g</td>\n",
       "      <td>3</td>\n",
       "      <td>13.8</td>\n",
       "      <td>150g</td>\n",
       "      <td>Kettle</td>\n",
       "      <td>Midage singles/couples</td>\n",
       "      <td>Budget</td>\n",
       "    </tr>\n",
       "  </tbody>\n",
       "</table>\n",
       "</div>"
      ],
      "text/plain": [
       "        date  store_no  loyalty_card_no  transaction_id  product_no  \\\n",
       "0 2018-10-17         1             1000               1           5   \n",
       "1 2019-05-14         1             1307             348          66   \n",
       "2 2019-05-20         1             1343             383          61   \n",
       "3 2018-08-17         2             2373             974          69   \n",
       "4 2018-08-18         2             2426            1038         108   \n",
       "\n",
       "                               product_name  product_qty  total_sales  \\\n",
       "0    Natural Chip        Compny SeaSalt175g            2          6.0   \n",
       "1                  CCs Nacho Cheese    175g            3          6.3   \n",
       "2    Smiths Crinkle Cut  Chips Chicken 170g            2          2.9   \n",
       "3    Smiths Chip Thinly  S/Cream&Onion 175g            5         15.0   \n",
       "4  Kettle Tortilla ChpsHny&Jlpno Chili 150g            3         13.8   \n",
       "\n",
       "  pack_size    brand               lifestage premium_customer  \n",
       "0      175g  Natural   Young singles/couples          Premium  \n",
       "1      175g      CCs  Midage singles/couples           Budget  \n",
       "2      170g   Smiths  Midage singles/couples           Budget  \n",
       "3      175g   Smiths  Midage singles/couples           Budget  \n",
       "4      150g   Kettle  Midage singles/couples           Budget  "
      ]
     },
     "execution_count": 31,
     "metadata": {},
     "output_type": "execute_result"
    }
   ],
   "source": [
    "# Explore merged df\n",
    "chips_sales.head()"
   ]
  },
  {
   "cell_type": "code",
   "execution_count": 32,
   "id": "12dc1026",
   "metadata": {},
   "outputs": [
    {
     "data": {
      "text/plain": [
       "date                0\n",
       "store_no            0\n",
       "loyalty_card_no     0\n",
       "transaction_id      0\n",
       "product_no          0\n",
       "product_name        0\n",
       "product_qty         0\n",
       "total_sales         0\n",
       "pack_size           0\n",
       "brand               0\n",
       "lifestage           0\n",
       "premium_customer    0\n",
       "dtype: int64"
      ]
     },
     "execution_count": 32,
     "metadata": {},
     "output_type": "execute_result"
    }
   ],
   "source": [
    "# Check for nulls in the merged df\n",
    "\n",
    "chips_sales.isnull().sum()"
   ]
  },
  {
   "cell_type": "code",
   "execution_count": 33,
   "id": "962ac732",
   "metadata": {},
   "outputs": [
    {
     "data": {
      "text/html": [
       "<div>\n",
       "<style scoped>\n",
       "    .dataframe tbody tr th:only-of-type {\n",
       "        vertical-align: middle;\n",
       "    }\n",
       "\n",
       "    .dataframe tbody tr th {\n",
       "        vertical-align: top;\n",
       "    }\n",
       "\n",
       "    .dataframe thead th {\n",
       "        text-align: right;\n",
       "    }\n",
       "</style>\n",
       "<table border=\"1\" class=\"dataframe\">\n",
       "  <thead>\n",
       "    <tr style=\"text-align: right;\">\n",
       "      <th></th>\n",
       "      <th>date</th>\n",
       "      <th>store_no</th>\n",
       "      <th>loyalty_card_no</th>\n",
       "      <th>transaction_id</th>\n",
       "      <th>product_no</th>\n",
       "      <th>product_name</th>\n",
       "      <th>product_qty</th>\n",
       "      <th>total_sales</th>\n",
       "      <th>pack_size</th>\n",
       "      <th>brand</th>\n",
       "      <th>lifestage</th>\n",
       "      <th>premium_customer</th>\n",
       "    </tr>\n",
       "  </thead>\n",
       "  <tbody>\n",
       "    <tr>\n",
       "      <th>116277</th>\n",
       "      <td>2018-10-01</td>\n",
       "      <td>107</td>\n",
       "      <td>107024</td>\n",
       "      <td>108462</td>\n",
       "      <td>45</td>\n",
       "      <td>Smiths Thinly Cut   Roast Chicken 175g</td>\n",
       "      <td>2</td>\n",
       "      <td>6.0</td>\n",
       "      <td>175g</td>\n",
       "      <td>Smiths</td>\n",
       "      <td>Older singles/couples</td>\n",
       "      <td>Premium</td>\n",
       "    </tr>\n",
       "  </tbody>\n",
       "</table>\n",
       "</div>"
      ],
      "text/plain": [
       "             date  store_no  loyalty_card_no  transaction_id  product_no  \\\n",
       "116277 2018-10-01       107           107024          108462          45   \n",
       "\n",
       "                                  product_name  product_qty  total_sales  \\\n",
       "116277  Smiths Thinly Cut   Roast Chicken 175g            2          6.0   \n",
       "\n",
       "       pack_size   brand              lifestage premium_customer  \n",
       "116277      175g  Smiths  Older singles/couples          Premium  "
      ]
     },
     "execution_count": 33,
     "metadata": {},
     "output_type": "execute_result"
    }
   ],
   "source": [
    "# Check for duplicates\n",
    "\n",
    "chips_sales.loc[chips_sales.duplicated()]\n"
   ]
  },
  {
   "cell_type": "code",
   "execution_count": 34,
   "id": "3043617d",
   "metadata": {},
   "outputs": [
    {
     "data": {
      "text/html": [
       "<div>\n",
       "<style scoped>\n",
       "    .dataframe tbody tr th:only-of-type {\n",
       "        vertical-align: middle;\n",
       "    }\n",
       "\n",
       "    .dataframe tbody tr th {\n",
       "        vertical-align: top;\n",
       "    }\n",
       "\n",
       "    .dataframe thead th {\n",
       "        text-align: right;\n",
       "    }\n",
       "</style>\n",
       "<table border=\"1\" class=\"dataframe\">\n",
       "  <thead>\n",
       "    <tr style=\"text-align: right;\">\n",
       "      <th></th>\n",
       "      <th>date</th>\n",
       "      <th>store_no</th>\n",
       "      <th>loyalty_card_no</th>\n",
       "      <th>transaction_id</th>\n",
       "      <th>product_no</th>\n",
       "      <th>product_name</th>\n",
       "      <th>product_qty</th>\n",
       "      <th>total_sales</th>\n",
       "      <th>pack_size</th>\n",
       "      <th>brand</th>\n",
       "      <th>lifestage</th>\n",
       "      <th>premium_customer</th>\n",
       "    </tr>\n",
       "  </thead>\n",
       "  <tbody>\n",
       "    <tr>\n",
       "      <th>116276</th>\n",
       "      <td>2018-10-01</td>\n",
       "      <td>107</td>\n",
       "      <td>107024</td>\n",
       "      <td>108462</td>\n",
       "      <td>18</td>\n",
       "      <td>Cheetos Chs &amp; Bacon Balls 190g</td>\n",
       "      <td>2</td>\n",
       "      <td>6.6</td>\n",
       "      <td>190g</td>\n",
       "      <td>Cheetos</td>\n",
       "      <td>Older singles/couples</td>\n",
       "      <td>Premium</td>\n",
       "    </tr>\n",
       "    <tr>\n",
       "      <th>116277</th>\n",
       "      <td>2018-10-01</td>\n",
       "      <td>107</td>\n",
       "      <td>107024</td>\n",
       "      <td>108462</td>\n",
       "      <td>45</td>\n",
       "      <td>Smiths Thinly Cut   Roast Chicken 175g</td>\n",
       "      <td>2</td>\n",
       "      <td>6.0</td>\n",
       "      <td>175g</td>\n",
       "      <td>Smiths</td>\n",
       "      <td>Older singles/couples</td>\n",
       "      <td>Premium</td>\n",
       "    </tr>\n",
       "  </tbody>\n",
       "</table>\n",
       "</div>"
      ],
      "text/plain": [
       "             date  store_no  loyalty_card_no  transaction_id  product_no  \\\n",
       "116276 2018-10-01       107           107024          108462          18   \n",
       "116277 2018-10-01       107           107024          108462          45   \n",
       "\n",
       "                                  product_name  product_qty  total_sales  \\\n",
       "116276          Cheetos Chs & Bacon Balls 190g            2          6.6   \n",
       "116277  Smiths Thinly Cut   Roast Chicken 175g            2          6.0   \n",
       "\n",
       "       pack_size    brand              lifestage premium_customer  \n",
       "116276      190g  Cheetos  Older singles/couples          Premium  \n",
       "116277      175g   Smiths  Older singles/couples          Premium  "
      ]
     },
     "execution_count": 34,
     "metadata": {},
     "output_type": "execute_result"
    }
   ],
   "source": [
    "# Explore row 116276 and 116277 since duplicated() returns second row\n",
    "\n",
    "chips_sales.loc[[116276,116277], :]\n",
    "\n",
    "# Not a duplicate, customer bought different products in same transaction"
   ]
  },
  {
   "cell_type": "code",
   "execution_count": 35,
   "id": "6dc7f32a",
   "metadata": {},
   "outputs": [],
   "source": [
    "#  Chips df ready for analysis\n",
    "\n",
    "chips_sales_df = chips_sales.copy()\n",
    "\n",
    "# Save copy csv format\n",
    "\n",
    "chips_sales_df.to_csv(\"C:/Users/KINYUA/Desktop/Python/chips_sales.csv\", \n",
    "                     index=False, sep =',', encoding='utf-8')"
   ]
  },
  {
   "cell_type": "markdown",
   "id": "49932949",
   "metadata": {},
   "source": [
    "### Exploratory Analysis"
   ]
  },
  {
   "cell_type": "code",
   "execution_count": 36,
   "id": "07db0a1b",
   "metadata": {
    "scrolled": true
   },
   "outputs": [
    {
     "data": {
      "text/html": [
       "<div>\n",
       "<style scoped>\n",
       "    .dataframe tbody tr th:only-of-type {\n",
       "        vertical-align: middle;\n",
       "    }\n",
       "\n",
       "    .dataframe tbody tr th {\n",
       "        vertical-align: top;\n",
       "    }\n",
       "\n",
       "    .dataframe thead th {\n",
       "        text-align: right;\n",
       "    }\n",
       "</style>\n",
       "<table border=\"1\" class=\"dataframe\">\n",
       "  <thead>\n",
       "    <tr style=\"text-align: right;\">\n",
       "      <th></th>\n",
       "      <th>date</th>\n",
       "      <th>store_no</th>\n",
       "      <th>loyalty_card_no</th>\n",
       "      <th>transaction_id</th>\n",
       "      <th>product_no</th>\n",
       "      <th>product_name</th>\n",
       "      <th>product_qty</th>\n",
       "      <th>total_sales</th>\n",
       "      <th>pack_size</th>\n",
       "      <th>brand</th>\n",
       "    </tr>\n",
       "  </thead>\n",
       "  <tbody>\n",
       "    <tr>\n",
       "      <th>0</th>\n",
       "      <td>2018-10-17</td>\n",
       "      <td>1</td>\n",
       "      <td>1000</td>\n",
       "      <td>1</td>\n",
       "      <td>5</td>\n",
       "      <td>Natural Chip        Compny SeaSalt175g</td>\n",
       "      <td>2</td>\n",
       "      <td>6.0</td>\n",
       "      <td>175g</td>\n",
       "      <td>Natural</td>\n",
       "    </tr>\n",
       "    <tr>\n",
       "      <th>1</th>\n",
       "      <td>2019-05-14</td>\n",
       "      <td>1</td>\n",
       "      <td>1307</td>\n",
       "      <td>348</td>\n",
       "      <td>66</td>\n",
       "      <td>CCs Nacho Cheese    175g</td>\n",
       "      <td>3</td>\n",
       "      <td>6.3</td>\n",
       "      <td>175g</td>\n",
       "      <td>CCs</td>\n",
       "    </tr>\n",
       "    <tr>\n",
       "      <th>2</th>\n",
       "      <td>2019-05-20</td>\n",
       "      <td>1</td>\n",
       "      <td>1343</td>\n",
       "      <td>383</td>\n",
       "      <td>61</td>\n",
       "      <td>Smiths Crinkle Cut  Chips Chicken 170g</td>\n",
       "      <td>2</td>\n",
       "      <td>2.9</td>\n",
       "      <td>170g</td>\n",
       "      <td>Smiths</td>\n",
       "    </tr>\n",
       "    <tr>\n",
       "      <th>3</th>\n",
       "      <td>2018-08-17</td>\n",
       "      <td>2</td>\n",
       "      <td>2373</td>\n",
       "      <td>974</td>\n",
       "      <td>69</td>\n",
       "      <td>Smiths Chip Thinly  S/Cream&amp;Onion 175g</td>\n",
       "      <td>5</td>\n",
       "      <td>15.0</td>\n",
       "      <td>175g</td>\n",
       "      <td>Smiths</td>\n",
       "    </tr>\n",
       "    <tr>\n",
       "      <th>4</th>\n",
       "      <td>2018-08-18</td>\n",
       "      <td>2</td>\n",
       "      <td>2426</td>\n",
       "      <td>1038</td>\n",
       "      <td>108</td>\n",
       "      <td>Kettle Tortilla ChpsHny&amp;Jlpno Chili 150g</td>\n",
       "      <td>3</td>\n",
       "      <td>13.8</td>\n",
       "      <td>150g</td>\n",
       "      <td>Kettle</td>\n",
       "    </tr>\n",
       "  </tbody>\n",
       "</table>\n",
       "</div>"
      ],
      "text/plain": [
       "        date  store_no  loyalty_card_no  transaction_id  product_no  \\\n",
       "0 2018-10-17         1             1000               1           5   \n",
       "1 2019-05-14         1             1307             348          66   \n",
       "2 2019-05-20         1             1343             383          61   \n",
       "3 2018-08-17         2             2373             974          69   \n",
       "4 2018-08-18         2             2426            1038         108   \n",
       "\n",
       "                               product_name  product_qty  total_sales  \\\n",
       "0    Natural Chip        Compny SeaSalt175g            2          6.0   \n",
       "1                  CCs Nacho Cheese    175g            3          6.3   \n",
       "2    Smiths Crinkle Cut  Chips Chicken 170g            2          2.9   \n",
       "3    Smiths Chip Thinly  S/Cream&Onion 175g            5         15.0   \n",
       "4  Kettle Tortilla ChpsHny&Jlpno Chili 150g            3         13.8   \n",
       "\n",
       "  pack_size    brand  \n",
       "0      175g  Natural  \n",
       "1      175g      CCs  \n",
       "2      170g   Smiths  \n",
       "3      175g   Smiths  \n",
       "4      150g   Kettle  "
      ]
     },
     "execution_count": 36,
     "metadata": {},
     "output_type": "execute_result"
    }
   ],
   "source": [
    "chips_transactions_df.head()"
   ]
  },
  {
   "cell_type": "code",
   "execution_count": 58,
   "id": "2a46d1b8-45e4-443f-b697-3bb9a9d6700a",
   "metadata": {},
   "outputs": [
    {
     "data": {
      "image/png": "[encoded data removed]",
      "text/plain": [
       "<Figure size 800x400 with 1 Axes>"
      ]
     },
     "metadata": {},
     "output_type": "display_data"
    }
   ],
   "source": [
    "# Sales by customer segments\n",
    "\n",
    "segment_purchases = chips_sales_df.groupby(['lifestage', 'premium_customer']\n",
    "                                          )['total_sales'].sum().reset_index()\n",
    "\n",
    "fig1, ax =plt.subplots(figsize=(8,4))\n",
    "\n",
    "sns.barplot(x='lifestage', y='total_sales', hue= 'premium_customer', data=segment_purchases)\n",
    "ax.tick_params(labelsize=6.5)\n",
    "ax.set_ylabel('Sales')\n",
    "ax.set_xlabel(\"Lifestage\")\n",
    "ax.set_title(\"Sales by customer segments\")\n",
    "plt.legend(frameon=False, fontsize=8)\n",
    "plt.tight_layout()\n",
    "\n",
    "plt.show()\n",
    "\n",
    "# Most sales from Budget Older families and Mainstream Retirees and Young singles/couples"
   ]
  },
  {
   "cell_type": "code",
   "execution_count": 38,
   "id": "fc320957-c838-447c-8d7c-621969055b9d",
   "metadata": {},
   "outputs": [],
   "source": [
    "# Report to excel\n",
    "\n",
    "segment_purchases.to_excel(r\"C:\\Users\\KINYUA\\Desktop\\Python\\segment_purchases.xlsx\")"
   ]
  },
  {
   "cell_type": "code",
   "execution_count": 59,
   "id": "19efe124-8194-4579-b410-714ff7a8523a",
   "metadata": {},
   "outputs": [],
   "source": [
    "# Export figure\n",
    "\n",
    "fig1.savefig(r\"C:\\Users\\KINYUA\\Desktop\\Python\\sales_segments.png\", format='png', dpi=900)"
   ]
  },
  {
   "cell_type": "code",
   "execution_count": 40,
   "id": "ca4b0084-c78f-4487-bda6-a85c1fc69d22",
   "metadata": {},
   "outputs": [
    {
     "name": "stdout",
     "output_type": "stream",
     "text": [
      "premium_customer        Budget  Mainstream  Premium  Totals\n",
      "lifestage                                                  \n",
      "Midage singles/couples     1.8         4.7      3.0     9.6\n",
      "New families               1.1         0.9      0.6     2.6\n",
      "Older families             8.7         5.3      4.2    18.2\n",
      "Older singles/couples      7.1         6.9      6.8    20.8\n",
      "Retirees                   5.9         8.0      5.1    19.0\n",
      "Young families             7.2         4.8      4.4    16.3\n",
      "Young singles/couples      3.2         8.2      2.2    13.5\n",
      "Totals                    35.0        38.8     26.2   100.0\n"
     ]
    }
   ],
   "source": [
    "# View a tabulated data for customer segments \n",
    "\n",
    "ct_sales = pd.crosstab(segment_purchases['lifestage'], segment_purchases['premium_customer'],\n",
    "                       values=segment_purchases['total_sales'], aggfunc= 'sum', \n",
    "                          margins =True, margins_name ='Totals',\n",
    "                                normalize =True).mul(100).round(1)\n",
    "print(ct_sales)\n",
    "\n",
    "# Budget Older families and Mainstream Young singles/couples and Retirees generate over 8% of sales each. Across \n",
    "# age segements, Older singles/couples and Retirees generate 40% of sales. Mainstream product segment \n",
    "# generate 39% of sales.\n"
   ]
  },
  {
   "cell_type": "code",
   "execution_count": 41,
   "id": "7e62a586-8aa8-43c3-bd51-d440c571b5ee",
   "metadata": {},
   "outputs": [
    {
     "name": "stdout",
     "output_type": "stream",
     "text": [
      "premium_customer        Budget  Mainstream  Premium  Totals\n",
      "lifestage                                                  \n",
      "Midage singles/couples     2.1         4.6      3.3    10.0\n",
      "New families               1.5         1.2      0.8     3.5\n",
      "Older families             6.5         3.9      3.1    13.5\n",
      "Older singles/couples      6.8         6.8      6.6    20.2\n",
      "Retirees                   6.2         8.9      5.3    20.4\n",
      "Young families             5.5         3.8      3.4    12.7\n",
      "Young singles/couples      5.1        11.1      3.5    19.7\n",
      "Totals                    33.7        40.3     26.0   100.0\n"
     ]
    }
   ],
   "source": [
    "# Confirm if the higher sales in the segments above are due to more customers from those segments\n",
    "\n",
    "customers_by_segment = pd.crosstab(chips_sales['lifestage'], chips_sales['premium_customer'], \n",
    "            values = chips_sales['loyalty_card_no'], aggfunc = 'nunique', \n",
    "            margins=True, margins_name ='Totals', normalize =True ).mul(100).round(1)\n",
    "print(customers_by_segment)\n",
    "\n",
    "# There are more Budget Older singles/families than Budget Older families. Budget Older families likely \n",
    "# purchase pricier brands/packs due to health and fitness concerns. Higher sales to Mainstream Young singles/\n",
    "# couples and Retirees relate with higher customer numbers for these segments. Older singles/couples and \n",
    "# Retirees constitute 41% of customers."
   ]
  },
  {
   "cell_type": "code",
   "execution_count": 60,
   "id": "f8d71136-1729-40f8-9ddd-6c9e4b1e508d",
   "metadata": {
    "scrolled": true
   },
   "outputs": [
    {
     "data": {
      "image/png": "[encoded data removed]",
      "text/plain": [
       "<Figure size 1000x400 with 1 Axes>"
      ]
     },
     "metadata": {},
     "output_type": "display_data"
    }
   ],
   "source": [
    "# Average number of units bought per customer by lifestage and Premium customer segment\n",
    "\n",
    "units = chips_sales.groupby(['lifestage', 'premium_customer']).agg(\n",
    "    average_units = ('product_qty','sum')).apply(lambda x: x /chips_sales.groupby(\n",
    "    ['lifestage', 'premium_customer'])['loyalty_card_no'].nunique()).reset_index() \n",
    "\n",
    "fig2, ax = plt.subplots(figsize=(10,4))\n",
    "\n",
    "sns.barplot(x=\"lifestage\", y=\"average_units\", data=units, hue=\"premium_customer\")\n",
    "\n",
    "ax.set_xlabel(\"Lifestage\")\n",
    "ax.set_ylabel(\"Average chips units\")\n",
    "ax.set_title(\"Average chips sales by segment\")\n",
    "ax.tick_params(labelsize=8)\n",
    "plt.legend(loc=2)\n",
    "plt.tight_layout()\n",
    "\n",
    "plt.show()\n",
    "\n",
    "# Leading bulk or repeat buyers are Older families and Young families. New families and Young \n",
    "# singles/couples buy the least"
   ]
  },
  {
   "cell_type": "code",
   "execution_count": 43,
   "id": "8bce768f-3486-4805-93da-c76bbdf0d700",
   "metadata": {},
   "outputs": [],
   "source": [
    "# Report\n",
    "\n",
    "units.to_excel(r\"C:\\Users\\KINYUA\\Desktop\\Python\\units_average.xlsx\", index=False)"
   ]
  },
  {
   "cell_type": "code",
   "execution_count": 61,
   "id": "e702f549-fef3-4e51-b6a1-0e8b0bf28c85",
   "metadata": {},
   "outputs": [],
   "source": [
    "# Export figure\n",
    "\n",
    "fig2.savefig(r\"C:\\Users\\KINYUA\\Desktop\\Python\\ave_chips_segment.png\", format='png', dpi=900)"
   ]
  },
  {
   "cell_type": "code",
   "execution_count": 45,
   "id": "20dc75b4-ece6-4bd4-aa94-a177158114cc",
   "metadata": {},
   "outputs": [
    {
     "data": {
      "image/png": "[encoded data removed]",
      "text/plain": [
       "<Figure size 950x300 with 1 Axes>"
      ]
     },
     "metadata": {},
     "output_type": "display_data"
    }
   ],
   "source": [
    "# Average price per unit for segments\n",
    "\n",
    "average_price = chips_sales.groupby(['lifestage', 'premium_customer']).agg(\n",
    "                avg_price = ('total_sales', 'sum')).apply(lambda x: x / chips_sales.groupby(\n",
    "                ['lifestage', 'premium_customer'])['product_qty'].sum()).reset_index()\n",
    "\n",
    "fig3, ax = plt.subplots(figsize=(9.5,3))\n",
    "\n",
    "sns.barplot(x='lifestage', y='avg_price', data=average_price, hue='premium_customer')\n",
    "\n",
    "ax.set_title(\"Average price for segments\")\n",
    "ax.set_xlabel(\"Lifestage\")\n",
    "ax.set_ylabel(\"Average price\")\n",
    "plt.tick_params(labelsize=7)\n",
    "plt.legend(loc=3, framealpha=0.4, fontsize=6)\n",
    "plt.tight_layout()\n",
    "\n",
    "plt.show()\n",
    "\n",
    "# Mainstream Midage and Young singles/couples pay the highest average price "
   ]
  },
  {
   "cell_type": "code",
   "execution_count": 46,
   "id": "c7695cfc-5f02-489b-894b-98d92d2f4c34",
   "metadata": {},
   "outputs": [],
   "source": [
    "# Report\n",
    "\n",
    "average_price.to_excel(r\"C:\\Users\\KINYUA\\Desktop\\Python\\average_price.xlsx\", index=False)"
   ]
  },
  {
   "cell_type": "code",
   "execution_count": 47,
   "id": "091b7fee-053d-450d-ba3f-98b96fcd2f48",
   "metadata": {},
   "outputs": [],
   "source": [
    "# Export figure\n",
    "\n",
    "fig3.savefig(r\"C:\\Users\\KINYUA\\Desktop\\Python\\ave_price_segment.png\", format='png', dpi =900)"
   ]
  },
  {
   "cell_type": "code",
   "execution_count": 48,
   "id": "018f07da-4f8c-4507-bec3-6edf7c2264a6",
   "metadata": {},
   "outputs": [
    {
     "name": "stdout",
     "output_type": "stream",
     "text": [
      "TtestResult(statistic=37.6243885962295, pvalue=3.4836771165090696e-306, df=54791.09392740315)\n"
     ]
    }
   ],
   "source": [
    "# Check whether the differences between average prices paid by Mainstream Midage and Young singles/couples\n",
    "# is statistically significant\n",
    "\n",
    "chips_sales['price'] = chips_sales['total_sales'] / chips_sales['product_qty']\n",
    "\n",
    "mainstream_midage_young = chips_sales.loc[(chips_sales['lifestage'].isin(['Midage singles/couples',\n",
    "                                                                        'Young singles/couples'])) &\n",
    "                                        (chips_sales['premium_customer'] == 'Mainstream')]['price']\n",
    "other_midage_young = chips_sales.loc[(chips_sales['lifestage'].isin(['Midage singles/couples',\n",
    "                                                                        'Young singles/couples'])) &\n",
    "                                        (chips_sales['premium_customer'] != 'Mainstream')]['price']\n",
    "\n",
    "ttest = st.ttest_ind(mainstream_midage_young, other_midage_young, alternative='greater', equal_var=False)\n",
    "\n",
    "print(ttest)\n",
    "\n",
    "\n",
    "# The t-test results in a pValue less than 0.005; therefore the average price for chips paid by Mainstream \n",
    "# Young and Midage singles/couples is significantly higher than than paid by Budget and Premium customers \n",
    "# in the two lifestages.\n"
   ]
  },
  {
   "cell_type": "code",
   "execution_count": 49,
   "id": "85279602-8efe-4d5b-8a46-4dce259c0d28",
   "metadata": {
    "scrolled": true
   },
   "outputs": [
    {
     "name": "stdout",
     "output_type": "stream",
     "text": [
      "         brand  target_segment  other_segment  affinity_to_brand\n",
      "0     Tyrrells        0.031553       0.025692           1.228095\n",
      "1     Twisties        0.046184       0.037877           1.219319\n",
      "2      Doritos        0.122761       0.101075           1.214553\n",
      "3       Kettle        0.197985       0.165553           1.195897\n",
      "4     Tostitos        0.045411       0.037978           1.195713\n",
      "5     Pringles        0.119420       0.100635           1.186670\n",
      "6         Cobs        0.044638       0.039049           1.143124\n",
      "7    Infuzions        0.064679       0.057065           1.133435\n",
      "8        Thins        0.060373       0.056986           1.059423\n",
      "9      GrnWves        0.032712       0.031188           1.048873\n",
      "10    Cheezels        0.017971       0.018647           0.963753\n",
      "11      Smiths        0.096370       0.124584           0.773536\n",
      "12      French        0.003948       0.005758           0.685569\n",
      "13     Cheetos        0.008033       0.012067           0.665733\n",
      "14         RRD        0.043810       0.067494           0.649091\n",
      "15     Natural        0.019600       0.030854           0.635241\n",
      "16         CCs        0.011180       0.018896           0.591677\n",
      "17    Sunbites        0.006349       0.012580           0.504698\n",
      "18  Woolworths        0.024099       0.049427           0.487573\n",
      "19      Burger        0.002926       0.006596           0.443597\n"
     ]
    }
   ],
   "source": [
    "# Deeper dive into Mainstream Young singles/couples to find out their favourite brands\n",
    "\n",
    "# Create two segments for target and others\n",
    "segment1= chips_sales[(chips_sales['lifestage']=='Young singles/couples') & \n",
    "                                    (chips_sales['premium_customer']=='Mainstream')]\n",
    "other = chips_sales[~((chips_sales['lifestage']=='Young singles/couples') & \n",
    "                                    (chips_sales['premium_customer']=='Mainstream'))]\n",
    "\n",
    "# Calculate sales quantity for the groups\n",
    "\n",
    "segment1_quantity = segment1['product_qty'].sum()\n",
    "other_quantity = other['product_qty'].sum()\n",
    "\n",
    "# Calculate brand proportions for each segment\n",
    "segment1_quantity_by_brand = segment1.groupby('brand')['product_qty'].sum()\\\n",
    "                                                                .reset_index()\n",
    "segment1_quantity_by_brand['target_segment'] = segment1_quantity_by_brand['product_qty']\\\n",
    "                                                                    /segment1_quantity\n",
    "\n",
    "other_quantity_by_brand = other.groupby('brand')['product_qty'].sum().reset_index()\n",
    "other_quantity_by_brand['other_segment'] = other_quantity_by_brand['product_qty']/\\\n",
    "                                                                    other_quantity\n",
    "\n",
    "# Merge target segment and other to form brand proportions df\n",
    "\n",
    "brand_proportions = pd.merge(segment1_quantity_by_brand, other_quantity_by_brand,\n",
    "                             on='brand')[['brand', 'target_segment', 'other_segment']]\n",
    "brand_proportions['affinity_to_brand'] = brand_proportions['target_segment'] /\\\n",
    "                                                    brand_proportions['other_segment']\n",
    "\n",
    "# Sort brand affinities in descending order\n",
    "\n",
    "brand_proportions = brand_proportions.sort_values(by='affinity_to_brand', ascending=False)\\\n",
    "                                                                    .reset_index(drop=True)\n",
    "\n",
    "print(brand_proportions)\n",
    "\n",
    "# Mainstream young singles/couples are 23% more likely to buy Tyrrells than the rest of the customers. \n",
    "# Other brands preferred by the segment include Twisties, Doritos, Kettle, and Tostitos.\n",
    "# Mainstream young singles/couples less likely to buy Burger (56%), Woolworths (51%) AND Sunbites (50%)"
   ]
  },
  {
   "cell_type": "code",
   "execution_count": 50,
   "id": "302f3e4a-484b-4e75-a246-a5d15aa27afd",
   "metadata": {},
   "outputs": [
    {
     "name": "stdout",
     "output_type": "stream",
     "text": [
      "   pack_size  target_segment  other_segment  affinity_to_pack_size\n",
      "0       110g        0.106280       0.089791               1.228095\n",
      "1       125g        0.003009       0.006037               1.219319\n",
      "2       134g        0.119420       0.100635               1.214553\n",
      "3       135g        0.014769       0.013075               1.195897\n",
      "4       150g        0.157598       0.163421               1.195713\n",
      "5       160g        0.006404       0.012373               1.186670\n",
      "6       165g        0.055652       0.062268               1.143124\n",
      "7       170g        0.080773       0.080986               1.133435\n",
      "8       175g        0.254990       0.270007               1.059423\n",
      "9       180g        0.003589       0.006067               1.048873\n",
      "10      190g        0.007481       0.012442               0.963753\n",
      "11      200g        0.008972       0.018656               0.773536\n",
      "12      210g        0.029124       0.025121               0.685569\n",
      "13      220g        0.002926       0.006596               0.665733\n",
      "14      250g        0.014355       0.012781               0.649091\n",
      "15      270g        0.031829       0.025096               0.635241\n",
      "16      330g        0.061284       0.050162               0.591677\n",
      "17      380g        0.032160       0.025584               0.504698\n",
      "18       70g        0.003037       0.006322               0.487573\n",
      "19       90g        0.006349       0.012580               0.443597\n"
     ]
    }
   ],
   "source": [
    "# Mainstream Young singles/couples also likely to pay more per purchase. Check if it is \n",
    "# due to buying larger chips pack-sizes\n",
    "\n",
    "segment1= chips_sales[(chips_sales['lifestage']=='Young singles/couples') & \n",
    "                                    (chips_sales['premium_customer']=='Mainstream')]\n",
    "other = chips_sales[~((chips_sales['lifestage']=='Young singles/couples') & \n",
    "                                    (chips_sales['premium_customer']=='Mainstream'))]\n",
    "\n",
    "# Calculate sales quantity for the groups\n",
    "\n",
    "segment1_quantity = segment1['product_qty'].sum()\n",
    "other_quantity = other['product_qty'].sum()\n",
    "\n",
    "# Calculate pack_size proportions for each segment\n",
    "segment1_quantity_by_pack_size = segment1.groupby('pack_size')['product_qty'].sum()\\\n",
    "                                                                .reset_index()\n",
    "segment1_quantity_by_pack_size['target_segment'] = segment1_quantity_by_pack_size['product_qty']\\\n",
    "                                                                    /segment1_quantity\n",
    "\n",
    "other_quantity_by_pack_size = other.groupby('pack_size')['product_qty'].sum().reset_index()\n",
    "other_quantity_by_pack_size['other_segment'] = other_quantity_by_pack_size['product_qty']/\\\n",
    "                                                                    other_quantity\n",
    "\n",
    "# Merge target segment and other to for pack_size proportions df\n",
    "\n",
    "pack_size_proportions = pd.merge(segment1_quantity_by_pack_size, other_quantity_by_pack_size,\n",
    "                             on='pack_size')[['pack_size', 'target_segment', 'other_segment']]\n",
    "pack_size_proportions['affinity_to_pack_size'] = brand_proportions['target_segment'] /\\\n",
    "                                                    brand_proportions['other_segment']\n",
    "\n",
    "# Sort pack_size affinities in descending order\n",
    "\n",
    "pack_size_proportions = pack_size_proportions.sort_values(by='affinity_to_pack_size', ascending=False)\\\n",
    "                                                                    .reset_index(drop=True)\n",
    "\n",
    "print(pack_size_proportions)\n",
    "\n",
    "\n",
    "# It is not true that Mainstream Young singles/couples pay higher average for chips because of a \n",
    "# predilection to buying larger sizes of chips. On the contrary, the segment is less likely to buy\n",
    "# product sizes 190g and above compared to the rest of the population. Consequently, the higher prices\n",
    "# paid could be due to a predilection to premium brandss, such as Tyrrells due to nutritional and \n",
    "# health concerns.\n"
   ]
  },
  {
   "cell_type": "code",
   "execution_count": 51,
   "id": "d1cc3d8b-3c43-4754-ba3d-4726a60a62c8",
   "metadata": {},
   "outputs": [],
   "source": [
    "# Report\n",
    "\n",
    "brand_proportions.to_excel(r\"C:\\Users\\KINYUA\\Desktop\\Python\\brand_affinity.xlsx\")"
   ]
  },
  {
   "cell_type": "code",
   "execution_count": 52,
   "id": "01d876d8-b9d7-4c00-9db2-f8faf0527f52",
   "metadata": {},
   "outputs": [],
   "source": [
    "# Report\n",
    "\n",
    "pack_size_proportions.to_excel(r\"C:\\Users\\KINYUA\\Desktop\\Python\\packsize_proportions.xlsx\")"
   ]
  },
  {
   "cell_type": "code",
   "execution_count": 53,
   "id": "0838b309-8f0c-480c-90f5-e5ae9173d8df",
   "metadata": {},
   "outputs": [
    {
     "name": "stdout",
     "output_type": "stream",
     "text": [
      "premium_customer        Budget  Mainstream  Premium  Total\n",
      "lifestage                                                 \n",
      "Midage singles/couples     1.9         4.5      3.1    9.5\n",
      "New families               1.1         0.9      0.6    2.6\n",
      "Older families             8.9         5.5      4.3   18.7\n",
      "Older singles/couples      7.0         6.9      6.7   20.7\n",
      "Retirees                   5.7         8.0      4.9   18.7\n",
      "Young families             7.3         4.9      4.4   16.7\n",
      "Young singles/couples      3.3         7.7      2.2   13.2\n",
      "Total                     35.2        38.4     26.3  100.0\n"
     ]
    }
   ],
   "source": [
    "#Report\n",
    "\n",
    "# Quantity of chips purchased by lifestage and premium_customer\n",
    "\n",
    "qty_ct = pd.crosstab(chips_sales['lifestage'], chips_sales['premium_customer'],\n",
    "                     values =chips_sales['product_qty'], aggfunc ='sum', \n",
    "                     normalize= True, margins=True, margins_name='Total').mul(100).round(1)\n",
    "print(qty_ct)"
   ]
  },
  {
   "cell_type": "code",
   "execution_count": 54,
   "id": "78f53063-883a-4e0a-9402-9aac23b6d76d",
   "metadata": {},
   "outputs": [
    {
     "data": {
      "image/png": "[encoded data removed]",
      "text/plain": [
       "<Figure size 950x400 with 1 Axes>"
      ]
     },
     "metadata": {},
     "output_type": "display_data"
    }
   ],
   "source": [
    "# Report\n",
    "\n",
    "customers_by_affluence = chips_sales.groupby(['lifestage', 'premium_customer']).agg(\n",
    "    count = ('loyalty_card_no', 'nunique')).reset_index()\n",
    "\n",
    "fig, ax = plt.subplots(figsize=(9.5, 4))\n",
    "\n",
    "sns.barplot(x='lifestage', y='count', data=customers_by_affluence, hue='premium_customer')\n",
    "\n",
    "plt.tick_params(labelsize=8)\n",
    "plt.title(\"Proportion of customers by affluence\")\n",
    "plt.tight_layout()\n",
    "plt.legend(title='')\n",
    "plt.show()\n"
   ]
  },
  {
   "cell_type": "code",
   "execution_count": 55,
   "id": "c42faddd-7e16-4425-9d58-0bf30f519115",
   "metadata": {},
   "outputs": [],
   "source": [
    "# Report\n",
    "fig.savefig(r\"C:\\Users\\KINYUA\\Desktop\\Python\\customers_affluence.png\", format='png', dpi=900)"
   ]
  },
  {
   "cell_type": "code",
   "execution_count": null,
   "id": "f542fd73-32be-4d10-9707-145d76fb6b0e",
   "metadata": {},
   "outputs": [],
   "source": []
  }
 ],
 "metadata": {
  "kernelspec": {
   "display_name": "Python 3 (ipykernel)",
   "language": "python",
   "name": "python3"
  },
  "language_info": {
   "codemirror_mode": {
    "name": "ipython",
    "version": 3
   },
   "file_extension": ".py",
   "mimetype": "text/x-python",
   "name": "python",
   "nbconvert_exporter": "python",
   "pygments_lexer": "ipython3",
   "version": "3.10.13"
  }
 },
 "nbformat": 4,
 "nbformat_minor": 5
}
